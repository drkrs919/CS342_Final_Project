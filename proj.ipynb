version https://git-lfs.github.com/spec/v1
oid sha256:bd2ac20d8252474b64a3776bab00d62e47c731b0bed84b1745f465791a694285
size 641105
