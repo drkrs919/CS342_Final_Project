{
 "cells": [
  {
   "attachments": {},
   "cell_type": "markdown",
   "id": "66a20b9c",
   "metadata": {},
   "source": [
    "# CS342 Final Project\n",
    "### Dayou Ren; Spencer Petty\n",
    "### dr37269; sap3758\n",
    "\n",
    "In this project, we will be building and training an autoencoder architecture to generate images of CS professor. We are basically asking this question: \"what does a neural network believe a CS professor should look like?\""
   ]
  },
  {
   "attachments": {},
   "cell_type": "markdown",
   "id": "fb0b396f",
   "metadata": {},
   "source": [
    "# Imports"
   ]
  },
  {
   "cell_type": "code",
   "execution_count": 1,
   "id": "d054ae3b",
   "metadata": {},
   "outputs": [],
   "source": [
    "import torchvision\n",
    "import torch\n",
    "\n",
    "from training import train_vae\n",
    "from netclasses import VAEConv\n",
    "from testfuncs import test_noise_generation, compare_outputs"
   ]
  },
  {
   "attachments": {},
   "cell_type": "markdown",
   "id": "c0c16d91",
   "metadata": {},
   "source": [
    "# Training"
   ]
  },
  {
   "cell_type": "code",
   "execution_count": 2,
   "id": "1374266b",
   "metadata": {},
   "outputs": [],
   "source": [
    "nepochs_pre = 1\n",
    "nepochs_main = 64\n",
    "latent_dims = 16\n",
    "hnodes = 64\n",
    "\n",
    "linmodel = VAEConv(latent_dims,hnodes)"
   ]
  },
  {
   "cell_type": "code",
   "execution_count": 3,
   "id": "08042eae",
   "metadata": {},
   "outputs": [
    {
     "data": {
      "application/vnd.jupyter.widget-view+json": {
       "model_id": "6c4b8c9a234a487cbf9d11b8dbc42e03",
       "version_major": 2,
       "version_minor": 0
      },
      "text/plain": [
       "  0%|          | 0/1 [00:00<?, ?epoch/s]"
      ]
     },
     "metadata": {},
     "output_type": "display_data"
    },
    {
     "data": {
      "application/vnd.jupyter.widget-view+json": {
       "model_id": "fc30d8a360b14129bff279038b81b180",
       "version_major": 2,
       "version_minor": 0
      },
      "text/plain": [
       "  0%|          | 0/201 [00:00<?, ?batch/s]"
      ]
     },
     "metadata": {},
     "output_type": "display_data"
    },
    {
     "ename": "AssertionError",
     "evalue": "",
     "output_type": "error",
     "traceback": [
      "\u001b[1;31m---------------------------------------------------------------------------\u001b[0m",
      "\u001b[1;31mAssertionError\u001b[0m                            Traceback (most recent call last)",
      "Cell \u001b[1;32mIn[3], line 3\u001b[0m\n\u001b[0;32m      1\u001b[0m pretrainset \u001b[39m=\u001b[39m torchvision\u001b[39m.\u001b[39mdatasets\u001b[39m.\u001b[39mImageFolder(\u001b[39m'\u001b[39m\u001b[39m./lfwdatacolor\u001b[39m\u001b[39m'\u001b[39m, transform\u001b[39m=\u001b[39mtorchvision\u001b[39m.\u001b[39mtransforms\u001b[39m.\u001b[39mToTensor())\n\u001b[0;32m      2\u001b[0m pretrainloader \u001b[39m=\u001b[39m torch\u001b[39m.\u001b[39mutils\u001b[39m.\u001b[39mdata\u001b[39m.\u001b[39mDataLoader(pretrainset, batch_size\u001b[39m=\u001b[39m\u001b[39m64\u001b[39m, shuffle\u001b[39m=\u001b[39m\u001b[39mTrue\u001b[39;00m)\n\u001b[1;32m----> 3\u001b[0m train_vae(linmodel, pretrainloader, nepochs \u001b[39m=\u001b[39;49m nepochs_pre, regularize\u001b[39m=\u001b[39;49m\u001b[39mFalse\u001b[39;49;00m)\n\u001b[0;32m      4\u001b[0m \u001b[39mprint\u001b[39m(\u001b[39mf\u001b[39m\u001b[39m'\u001b[39m\u001b[39mAfter \u001b[39m\u001b[39m{\u001b[39;00mnepochs_pre\u001b[39m}\u001b[39;00m\u001b[39m  epochs of pretraining\u001b[39m\u001b[39m'\u001b[39m)\n\u001b[0;32m      5\u001b[0m compare_outputs(linmodel)\n",
      "File \u001b[1;32mc:\\Users\\paleo\\OneDrive\\Documents\\Code\\CS342_Final_Project\\training.py:19\u001b[0m, in \u001b[0;36mtrain_vae\u001b[1;34m(model, dataloader, nepochs, inter_epoch, regularize)\u001b[0m\n\u001b[0;32m     17\u001b[0m \u001b[39mfor\u001b[39;00m batch_idx, (data, _) \u001b[39min\u001b[39;00m \u001b[39menumerate\u001b[39m(batches):\n\u001b[0;32m     18\u001b[0m     optimizer\u001b[39m.\u001b[39mzero_grad()\n\u001b[1;32m---> 19\u001b[0m     x_hat \u001b[39m=\u001b[39m model(data)\n\u001b[0;32m     20\u001b[0m     term1 \u001b[39m=\u001b[39m ((data \u001b[39m-\u001b[39m x_hat)\u001b[39m*\u001b[39m\u001b[39m*\u001b[39m\u001b[39m2\u001b[39m)\u001b[39m.\u001b[39mmean()\n\u001b[0;32m     21\u001b[0m     term2 \u001b[39m=\u001b[39m model\u001b[39m.\u001b[39mkl\n",
      "File \u001b[1;32mc:\\Users\\paleo\\anaconda3\\lib\\site-packages\\torch\\nn\\modules\\module.py:1501\u001b[0m, in \u001b[0;36mModule._call_impl\u001b[1;34m(self, *args, **kwargs)\u001b[0m\n\u001b[0;32m   1496\u001b[0m \u001b[39m# If we don't have any hooks, we want to skip the rest of the logic in\u001b[39;00m\n\u001b[0;32m   1497\u001b[0m \u001b[39m# this function, and just call forward.\u001b[39;00m\n\u001b[0;32m   1498\u001b[0m \u001b[39mif\u001b[39;00m \u001b[39mnot\u001b[39;00m (\u001b[39mself\u001b[39m\u001b[39m.\u001b[39m_backward_hooks \u001b[39mor\u001b[39;00m \u001b[39mself\u001b[39m\u001b[39m.\u001b[39m_backward_pre_hooks \u001b[39mor\u001b[39;00m \u001b[39mself\u001b[39m\u001b[39m.\u001b[39m_forward_hooks \u001b[39mor\u001b[39;00m \u001b[39mself\u001b[39m\u001b[39m.\u001b[39m_forward_pre_hooks\n\u001b[0;32m   1499\u001b[0m         \u001b[39mor\u001b[39;00m _global_backward_pre_hooks \u001b[39mor\u001b[39;00m _global_backward_hooks\n\u001b[0;32m   1500\u001b[0m         \u001b[39mor\u001b[39;00m _global_forward_hooks \u001b[39mor\u001b[39;00m _global_forward_pre_hooks):\n\u001b[1;32m-> 1501\u001b[0m     \u001b[39mreturn\u001b[39;00m forward_call(\u001b[39m*\u001b[39margs, \u001b[39m*\u001b[39m\u001b[39m*\u001b[39mkwargs)\n\u001b[0;32m   1502\u001b[0m \u001b[39m# Do not call functions when jit is used\u001b[39;00m\n\u001b[0;32m   1503\u001b[0m full_backward_hooks, non_full_backward_hooks \u001b[39m=\u001b[39m [], []\n",
      "File \u001b[1;32mc:\\Users\\paleo\\OneDrive\\Documents\\Code\\CS342_Final_Project\\netclasses.py:87\u001b[0m, in \u001b[0;36mVAEConv.forward\u001b[1;34m(self, x)\u001b[0m\n\u001b[0;32m     85\u001b[0m \u001b[39mself\u001b[39m\u001b[39m.\u001b[39mkl \u001b[39m=\u001b[39m (sigma\u001b[39m*\u001b[39m\u001b[39m*\u001b[39m\u001b[39m2\u001b[39m \u001b[39m+\u001b[39m mu\u001b[39m*\u001b[39m\u001b[39m*\u001b[39m\u001b[39m2\u001b[39m \u001b[39m-\u001b[39m torch\u001b[39m.\u001b[39mlog(torch\u001b[39m.\u001b[39mabs(sigma) \u001b[39m+\u001b[39m \u001b[39m1e-10\u001b[39m) \u001b[39m-\u001b[39m \u001b[39m1\u001b[39m\u001b[39m/\u001b[39m\u001b[39m2\u001b[39m)\u001b[39m.\u001b[39msum()\n\u001b[0;32m     86\u001b[0m nankl \u001b[39m=\u001b[39m torch\u001b[39m.\u001b[39misnan(\u001b[39mself\u001b[39m\u001b[39m.\u001b[39mkl)\u001b[39m.\u001b[39mitem()\n\u001b[1;32m---> 87\u001b[0m \u001b[39massert\u001b[39;00m(\u001b[39mnot\u001b[39;00m nankl)\n\u001b[0;32m     89\u001b[0m \u001b[39m#Decoding\u001b[39;00m\n\u001b[0;32m     90\u001b[0m z \u001b[39m=\u001b[39m \u001b[39mself\u001b[39m\u001b[39m.\u001b[39mdecode1(z)\n",
      "\u001b[1;31mAssertionError\u001b[0m: "
     ]
    }
   ],
   "source": [
    "pretrainset = torchvision.datasets.ImageFolder('./lfwdatacolor', transform=torchvision.transforms.ToTensor())\n",
    "pretrainloader = torch.utils.data.DataLoader(pretrainset, batch_size=64, shuffle=True)\n",
    "train_vae(linmodel, pretrainloader, nepochs = nepochs_pre, regularize=False)\n",
    "print(f'After {nepochs_pre}  epochs of pretraining')\n",
    "compare_outputs(linmodel)"
   ]
  },
  {
   "cell_type": "code",
   "execution_count": null,
   "id": "0ab18787",
   "metadata": {},
   "outputs": [],
   "source": [
    "trainset  = torchvision.datasets.ImageFolder('./profdatacolor', transform = torchvision.transforms.ToTensor())\n",
    "trainloader = torch.utils.data.DataLoader(trainset, batch_size = 64, shuffle=True)\n",
    "train_vae(linmodel, trainloader, nepochs = nepochs_main, inter_epoch=False, regularize=False)"
   ]
  }
 ],
 "metadata": {
  "kernelspec": {
   "display_name": "Python 3 (ipykernel)",
   "language": "python",
   "name": "python3"
  },
  "language_info": {
   "codemirror_mode": {
    "name": "ipython",
    "version": 3
   },
   "file_extension": ".py",
   "mimetype": "text/x-python",
   "name": "python",
   "nbconvert_exporter": "python",
   "pygments_lexer": "ipython3",
   "version": "3.10.9"
  }
 },
 "nbformat": 4,
 "nbformat_minor": 5
}
