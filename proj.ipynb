version https://git-lfs.github.com/spec/v1
oid sha256:40bf1e59e42d34388c0399fe39026f851c9b6ba13a66edce22b173980e05abcc
size 1691630
