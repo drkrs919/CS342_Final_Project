{
 "cells": [
  {
   "attachments": {},
   "cell_type": "markdown",
   "id": "66a20b9c",
   "metadata": {},
   "source": [
    "# CS342 Final Project\n",
    "### Dayou Ren; Spencer Petty\n",
    "### dr37269; sap3758\n",
    "\n",
    "In this project, we will be building and training an autoencoder architecture to generate images of CS professor. We are basically asking this question: \"what does a neural network believe a CS professor should look like?\""
   ]
  },
  {
   "attachments": {},
   "cell_type": "markdown",
   "id": "fb0b396f",
   "metadata": {},
   "source": [
    "# Imports"
   ]
  },
  {
   "cell_type": "code",
   "execution_count": 1,
   "id": "d054ae3b",
   "metadata": {},
   "outputs": [],
   "source": [
    "from PIL import Image\n",
    "import cv2\n",
    "import numpy as np\n",
    "import torchvision\n",
    "import pickle\n",
    "import torch\n",
    "import torch.nn as nn\n",
    "import torch.nn.functional as F\n",
    "import torch.utils\n",
    "import torch.distributions\n",
    "import numpy as np\n",
    "import matplotlib.pyplot as plt\n",
    "\n",
    "from training import train_vae\n",
    "from netclassandtrain import VAEConv, test_noise_generation, compare_outputs"
   ]
  },
  {
   "attachments": {},
   "cell_type": "markdown",
   "id": "c0c16d91",
   "metadata": {},
   "source": [
    "# Training"
   ]
  },
  {
   "cell_type": "code",
   "execution_count": null,
   "id": "08042eae",
   "metadata": {},
   "outputs": [],
   "source": [
    "nepochs_pre = 1     \n",
    "nepochs_main = 64    \n",
    "pretrainset = torchvision.datasets.ImageFolder('./cropped_lfw', transform=torchvision.transforms.ToTensor())\n",
    "pretrainloader = torch.utils.data.DataLoader(pretrainset, batch_size=64, shuffle=True)\n",
    "linmodel = VAEConv(10,64)\n",
    "train_vae(linmodel, pretrainloader, nepochs = nepochs_pre, regularize=True)\n",
    "print(f'After {nepochs_pre}  epochs of pretraining')\n",
    "compare_outputs(linmodel)"
   ]
  },
  {
   "cell_type": "code",
   "execution_count": null,
   "id": "0ab18787",
   "metadata": {},
   "outputs": [],
   "source": [
    "trainset  = torchvision.datasets.ImageFolder('./cropped_CS_prof_images', transform = torchvision.transforms.ToTensor())\n",
    "trainloader = torch.utils.data.DataLoader(trainset, batch_size = 64, shuffle=True)\n",
    "train_vae(linmodel, trainloader, nepochs = nepochs_main, inter_epoch=False, regularize=True)"
   ]
  }
 ],
 "metadata": {
  "kernelspec": {
   "display_name": "Python 3 (ipykernel)",
   "language": "python",
   "name": "python3"
  },
  "language_info": {
   "codemirror_mode": {
    "name": "ipython",
    "version": 3
   },
   "file_extension": ".py",
   "mimetype": "text/x-python",
   "name": "python",
   "nbconvert_exporter": "python",
   "pygments_lexer": "ipython3",
   "version": "3.10.9"
  }
 },
 "nbformat": 4,
 "nbformat_minor": 5
}
