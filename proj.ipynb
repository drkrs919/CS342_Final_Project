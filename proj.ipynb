{
 "cells": [
  {
   "attachments": {},
   "cell_type": "markdown",
   "id": "66a20b9c",
   "metadata": {},
   "source": [
    "# CS342 Final Project\n",
    "### Dayou Ren; Spencer Petty\n",
    "### dr37269; sap3758\n",
    "\n",
    "In this project, we will be building and training an autoencoder architecture to generate images of CS professor. We are basically asking this question: \"what does a neural network believe a CS professor should look like?\""
   ]
  },
  {
   "attachments": {},
   "cell_type": "markdown",
   "id": "fb0b396f",
   "metadata": {},
   "source": [
    "# Imports"
   ]
  },
  {
   "cell_type": "code",
   "execution_count": 1,
   "id": "a1e48883",
   "metadata": {},
   "outputs": [],
   "source": [
    "import torchvision\n",
    "import torch\n",
    "\n",
    "from training import train_vae\n",
    "from netclasses import VAEConv\n",
    "from testfuncs import compare_and_gen"
   ]
  },
  {
   "attachments": {},
   "cell_type": "markdown",
   "id": "c0c16d91",
   "metadata": {},
   "source": [
    "# Training"
   ]
  },
  {
   "cell_type": "code",
   "execution_count": 2,
   "id": "1374266b",
   "metadata": {},
   "outputs": [],
   "source": [
    "nepochs_pre = 1\n",
    "nepochs_main = 64\n",
    "latent_dims = 16\n",
    "hnodes = 64\n",
    "\n",
    "linmodel = VAEConv(latent_dims,hnodes)"
   ]
  },
  {
   "cell_type": "code",
   "execution_count": null,
   "id": "08042eae",
   "metadata": {},
   "outputs": [],
   "source": [
    "pretrainset = torchvision.datasets.ImageFolder('./lfwdatacolor', transform=torchvision.transforms.ToTensor())\n",
    "pretrainloader = torch.utils.data.DataLoader(pretrainset, batch_size=64, shuffle=True)\n",
    "train_vae(linmodel, pretrainloader, nepochs = nepochs_pre, regularize=False)\n",
    "compare_and_gen(linmodel)"
   ]
  },
  {
   "cell_type": "code",
   "execution_count": null,
   "id": "0ab18787",
   "metadata": {},
   "outputs": [],
   "source": [
    "trainset  = torchvision.datasets.ImageFolder('./profdatacolor', transform = torchvision.transforms.ToTensor())\n",
    "trainloader = torch.utils.data.DataLoader(trainset, batch_size = 64, shuffle=True)\n",
    "train_vae(linmodel, trainloader, nepochs = nepochs_main, regularize=False)\n",
    "compare_and_gen(linmodel)\n",
    "torch.save(linmodel.state_dict(), \"./models/7_6_2023/model.pt\")"
   ]
  },
  {
   "cell_type": "code",
   "execution_count": null,
   "id": "48e191fc",
   "metadata": {},
   "outputs": [],
   "source": [
    "! shutdown /s /t 0 /c \"shutdown after training neural net\""
   ]
  }
 ],
 "metadata": {
  "kernelspec": {
   "display_name": "Python 3 (ipykernel)",
   "language": "python",
   "name": "python3"
  },
  "language_info": {
   "codemirror_mode": {
    "name": "ipython",
    "version": 3
   },
   "file_extension": ".py",
   "mimetype": "text/x-python",
   "name": "python",
   "nbconvert_exporter": "python",
   "pygments_lexer": "ipython3",
   "version": "3.10.9"
  }
 },
 "nbformat": 4,
 "nbformat_minor": 5
}
