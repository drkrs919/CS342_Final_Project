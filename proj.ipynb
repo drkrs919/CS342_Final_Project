{
 "cells": [
  {
   "attachments": {},
   "cell_type": "markdown",
   "id": "66a20b9c",
   "metadata": {},
   "source": [
    "# CS342 Final Project\n",
    "### Dayou Ren; Spencer Petty\n",
    "### dr37269; sap3758\n",
    "\n",
    "In this project, we will be building and training an autoencoder architecture to generate images of CS professor. We are basically asking this question: \"what does a neural network believe a CS professor should look like?\""
   ]
  },
  {
   "attachments": {},
   "cell_type": "markdown",
   "id": "fb0b396f",
   "metadata": {},
   "source": [
    "# Imports"
   ]
  },
  {
   "cell_type": "code",
   "execution_count": 1,
   "id": "d054ae3b",
   "metadata": {},
   "outputs": [],
   "source": [
    "import torchvision\n",
    "import torch\n",
    "\n",
    "from training import train_vae\n",
    "from netclasses import VAEConv\n",
    "from testfuncs import test_noise_generation, compare_outputs"
   ]
  },
  {
   "attachments": {},
   "cell_type": "markdown",
   "id": "c0c16d91",
   "metadata": {},
   "source": [
    "# Training"
   ]
  },
  {
   "cell_type": "code",
   "execution_count": 2,
   "id": "1374266b",
   "metadata": {},
   "outputs": [],
   "source": [
    "nepochs_pre = 1\n",
    "nepochs_main = 64\n",
    "latent_dims = 16\n",
    "hnodes = 64\n",
    "\n",
    "linmodel = VAEConv(latent_dims,hnodes)"
   ]
  },
  {
   "cell_type": "code",
   "execution_count": 3,
   "id": "08042eae",
   "metadata": {},
   "outputs": [
    {
     "data": {
      "application/vnd.jupyter.widget-view+json": {
       "model_id": "f616be5e52d141d49f8f4df1d2494907",
       "version_major": 2,
       "version_minor": 0
      },
      "text/plain": [
       "  0%|          | 0/1 [00:00<?, ?epoch/s]"
      ]
     },
     "metadata": {},
     "output_type": "display_data"
    },
    {
     "data": {
      "application/vnd.jupyter.widget-view+json": {
       "model_id": "5525acc985fb43fd80af68d9cf9f4e17",
       "version_major": 2,
       "version_minor": 0
      },
      "text/plain": [
       "  0%|          | 0/201 [00:00<?, ?batch/s]"
      ]
     },
     "metadata": {},
     "output_type": "display_data"
    }
   ],
   "source": [
    "pretrainset = torchvision.datasets.ImageFolder('./lfwdatacolor', transform=torchvision.transforms.ToTensor())\n",
    "pretrainloader = torch.utils.data.DataLoader(pretrainset, batch_size=64, shuffle=True)\n",
    "train_vae(linmodel, pretrainloader, nepochs = nepochs_pre, regularize=False)\n",
    "print(f'After {nepochs_pre}  epochs of pretraining')\n",
    "compare_outputs(linmodel)"
   ]
  },
  {
   "cell_type": "code",
   "execution_count": null,
   "id": "0ab18787",
   "metadata": {},
   "outputs": [],
   "source": [
    "trainset  = torchvision.datasets.ImageFolder('./profdatacolor', transform = torchvision.transforms.ToTensor())\n",
    "trainloader = torch.utils.data.DataLoader(trainset, batch_size = 64, shuffle=True)\n",
    "train_vae(linmodel, trainloader, nepochs = nepochs_main, inter_epoch=False, regularize=False)"
   ]
  }
 ],
 "metadata": {
  "kernelspec": {
   "display_name": "Python 3 (ipykernel)",
   "language": "python",
   "name": "python3"
  },
  "language_info": {
   "codemirror_mode": {
    "name": "ipython",
    "version": 3
   },
   "file_extension": ".py",
   "mimetype": "text/x-python",
   "name": "python",
   "nbconvert_exporter": "python",
   "pygments_lexer": "ipython3",
   "version": "3.10.9"
  }
 },
 "nbformat": 4,
 "nbformat_minor": 5
}
