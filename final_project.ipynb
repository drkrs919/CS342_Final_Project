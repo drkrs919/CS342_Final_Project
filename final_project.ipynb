{
 "cells": [
  {
   "cell_type": "markdown",
   "id": "66a20b9c",
   "metadata": {},
   "source": [
    "# CS342 Final Project\n",
    "### Dayou Ren; Spencer Petty\n",
    "### dr37269; sap3758\n",
    "\n",
    "In this project, we will be building and training an autoencoder architecture to generate images of CS professor. We are basically asking this question: \"what does a neural network believe a CS professor should look like?\""
   ]
  },
  {
   "cell_type": "code",
   "execution_count": 1,
   "id": "53d233c9",
   "metadata": {},
   "outputs": [
    {
     "name": "stdout",
     "output_type": "stream",
     "text": [
      "Requirement already satisfied: opencv-python in /Users/dayouren/opt/anaconda3/lib/python3.9/site-packages (4.7.0.72)\r\n",
      "Requirement already satisfied: numpy>=1.17.0 in /Users/dayouren/opt/anaconda3/lib/python3.9/site-packages (from opencv-python) (1.21.5)\r\n"
     ]
    }
   ],
   "source": [
    "!pip3 install opencv-python"
   ]
  },
  {
   "cell_type": "code",
   "execution_count": 2,
   "id": "26e9e199",
   "metadata": {},
   "outputs": [],
   "source": [
    "import cv2\n",
    "from PIL import Image\n",
    "import numpy as np\n",
    "\n",
    "# Define the desired dimensions for the cropped and resized images\n",
    "crop_size = (500, 500)\n",
    "\n",
    "# Open each headshot image and crop it to the desired size\n",
    "for i in range(1, 6):\n",
    "    # Replace 'image_path' with the actual file path of the image\n",
    "    image_path = f'./CS_prof_images/image_{i}.jpg'\n",
    "    img = cv2.imread(image_path)\n",
    "\n",
    "    # Convert the image to grayscale\n",
    "    gray = cv2.cvtColor(img, cv2.COLOR_BGR2GRAY)\n",
    "\n",
    "    # Detect all the faces in the image\n",
    "    faces = cv2.CascadeClassifier(cv2.data.haarcascades + \"haarcascade_frontalface_default.xml\").detectMultiScale(gray, scaleFactor=1.3, minNeighbors=3)\n",
    "\n",
    "    # Crop the image based on the location of the first detected face\n",
    "    if len(faces) > 0:\n",
    "        x, y, w, h = faces[0]\n",
    "        face_image = gray[y:y+h, x:x+w]\n",
    "\n",
    "        # Resize the cropped image to the desired dimensions\n",
    "        resized_img = cv2.resize(face_image, crop_size)\n",
    "\n",
    "        # Convert the resized image to RGB\n",
    "        rgb_resized_img = cv2.cvtColor(resized_img, cv2.COLOR_BGR2RGB)\n",
    "\n",
    "        # Save the resized image with the original file name\n",
    "        output_path = f'./cropped_CS_prof_images/resized_image_{i}.jpg'\n",
    "        Image.fromarray(rgb_resized_img).save(output_path)\n",
    "    else:\n",
    "        print(f\"No face detected in image {i}. Skipping.\")\n"
   ]
  },
  {
   "cell_type": "code",
   "execution_count": null,
   "id": "216e51f8",
   "metadata": {},
   "outputs": [],
   "source": []
  }
 ],
 "metadata": {
  "kernelspec": {
   "display_name": "Python 3 (ipykernel)",
   "language": "python",
   "name": "python3"
  },
  "language_info": {
   "codemirror_mode": {
    "name": "ipython",
    "version": 3
   },
   "file_extension": ".py",
   "mimetype": "text/x-python",
   "name": "python",
   "nbconvert_exporter": "python",
   "pygments_lexer": "ipython3",
   "version": "3.9.12"
  }
 },
 "nbformat": 4,
 "nbformat_minor": 5
}
